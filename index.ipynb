{
 "cells": [
  {
   "cell_type": "markdown",
   "metadata": {},
   "source": [
    "# While Loops, Break and Continue - Lab"
   ]
  },
  {
   "cell_type": "markdown",
   "metadata": {},
   "source": [
    "## Introduction\n",
    "In this lab, we will practice using `while` loops, and `break` and `continue` statements in our code. We will use our control flow statements to iterate through collections and filter out or selectively operate on each element. We'll use `while` loops to perform operations until a given condition is no longer true."
   ]
  },
  {
   "cell_type": "markdown",
   "metadata": {},
   "source": [
    "## Objectives\n",
    "You will be able to:\n",
    "* Use a break and continue statements inside a loop\n",
    "* Understand, explain and use while loops"
   ]
  },
  {
   "cell_type": "markdown",
   "metadata": {},
   "source": [
    "## Instructions\n",
    "\n",
    "### While Loops\n",
    "Use while loops to perform the below operations and get the expected return values"
   ]
  },
  {
   "cell_type": "code",
   "execution_count": 1,
   "metadata": {},
   "outputs": [
    {
     "name": "stdout",
     "output_type": "stream",
     "text": [
      "Yummy Yummy, pie in my tummy!\n",
      "I have eaten a total of 1 slice(s) of pie :)\n",
      "Oh no! there is 5 slice(s) left!\n",
      "\n",
      "Yummy Yummy, pie in my tummy!\n",
      "I have eaten a total of 2 slice(s) of pie :)\n",
      "Oh no! there is 4 slice(s) left!\n",
      "\n",
      "Yummy Yummy, pie in my tummy!\n",
      "I have eaten a total of 3 slice(s) of pie :)\n",
      "Oh no! there is 3 slice(s) left!\n",
      "\n",
      "Yummy Yummy, pie in my tummy!\n",
      "I have eaten a total of 4 slice(s) of pie :)\n",
      "Oh no! there is 2 slice(s) left!\n",
      "\n",
      "Yummy Yummy, pie in my tummy!\n",
      "I have eaten a total of 5 slice(s) of pie :)\n",
      "Oh no! there is 1 slice(s) left!\n",
      "\n",
      "Yummy Yummy, pie in my tummy!\n",
      "I have eaten a total of 6 slice(s) of pie :)\n",
      "Oh no! there is 0 slice(s) left!\n",
      "\n"
     ]
    }
   ],
   "source": [
    "slices_of_pie = 6\n",
    "slices_eaten = 0\n",
    "while slices_of_pie > 0:\n",
    "    slices_eaten += 1\n",
    "    print(\"Yummy Yummy, pie in my tummy!\")\n",
    "    print (\"I have eaten a total of\", slices_eaten, \"slice(s) of pie :)\")\n",
    "    slices_of_pie -= 1\n",
    "    print(\"Oh no! there is\", slices_of_pie, \"slice(s) left!\\n\")\n",
    "\n",
    "# use a while loop to eat each slice of pie\n",
    "# add each slice to the slices_eaten variable"
   ]
  },
  {
   "cell_type": "code",
   "execution_count": 2,
   "metadata": {},
   "outputs": [
    {
     "name": "stdout",
     "output_type": "stream",
     "text": [
      "time until breakfast: 1468 - We add mix to the skillet.\n",
      "time until breakfast: 1441 - This sides done, lets flip the pancake.\n",
      "time until breakfast: 1414 - The pancake is now ready. Lets take it out!\n",
      "we have 1 pancake(s).\n",
      "we now have 1414 seconds left until breakfast is served.\n",
      "\n",
      "time until breakfast: 1414 - We add mix to the skillet.\n",
      "time until breakfast: 1387 - This sides done, lets flip the pancake.\n",
      "time until breakfast: 1360 - The pancake is now ready. Lets take it out!\n",
      "we have 2 pancake(s).\n",
      "we now have 1360 seconds left until breakfast is served.\n",
      "\n",
      "time until breakfast: 1360 - We add mix to the skillet.\n",
      "time until breakfast: 1333 - This sides done, lets flip the pancake.\n",
      "time until breakfast: 1306 - The pancake is now ready. Lets take it out!\n",
      "we have 3 pancake(s).\n",
      "we now have 1306 seconds left until breakfast is served.\n",
      "\n",
      "time until breakfast: 1306 - We add mix to the skillet.\n",
      "time until breakfast: 1279 - This sides done, lets flip the pancake.\n",
      "time until breakfast: 1252 - The pancake is now ready. Lets take it out!\n",
      "we have 4 pancake(s).\n",
      "we now have 1252 seconds left until breakfast is served.\n",
      "\n",
      "time until breakfast: 1252 - We add mix to the skillet.\n",
      "time until breakfast: 1225 - This sides done, lets flip the pancake.\n",
      "time until breakfast: 1198 - The pancake is now ready. Lets take it out!\n",
      "we have 5 pancake(s).\n",
      "we now have 1198 seconds left until breakfast is served.\n",
      "\n",
      "time until breakfast: 1198 - We add mix to the skillet.\n",
      "time until breakfast: 1171 - This sides done, lets flip the pancake.\n",
      "time until breakfast: 1144 - The pancake is now ready. Lets take it out!\n",
      "we have 6 pancake(s).\n",
      "we now have 1144 seconds left until breakfast is served.\n",
      "\n"
     ]
    }
   ],
   "source": [
    "time_for_breakfast = 1468 # in seconds\n",
    "number_of_cooked_pancakes = 0\n",
    "while number_of_cooked_pancakes < 6:\n",
    "    print(\"time until breakfast:\", time_for_breakfast,\"- We add mix to the skillet.\")\n",
    "    time_for_breakfast -= 27\n",
    "    print(\"time until breakfast:\",time_for_breakfast,\"- This sides done, lets flip the pancake.\")\n",
    "    time_for_breakfast -= 27\n",
    "    print(\"time until breakfast:\",time_for_breakfast,\"- The pancake is now ready. Lets take it out!\")\n",
    "    number_of_cooked_pancakes += 1\n",
    "    print(\"we have\", number_of_cooked_pancakes, \"pancake(s).\")\n",
    "    print(\"we now have\", time_for_breakfast, \"seconds left until breakfast is served.\\n\")\n",
    "\n",
    "# use a while loop to make yourself 5 pancakes for breakfast\n",
    "# each pancake takes 27 seconds to cook on each side\n",
    "# you must decrease the time_for_breakfast each time you \n",
    "# add a pancake to the skillet (frying pan) or flip a pancake (i.e. 2 times per pancake)\n",
    "# there is only room for one pancake at a time"
   ]
  },
  {
   "cell_type": "markdown",
   "metadata": {},
   "source": [
    "> **Hint:** You may find the [remove method](https://www.programiz.com/python-programming/methods/list/remove) to be useful for the next problem"
   ]
  },
  {
   "cell_type": "code",
   "execution_count": 3,
   "metadata": {},
   "outputs": [
    {
     "name": "stdout",
     "output_type": "stream",
     "text": [
      "Line of Hungry Patrons: [1, 3, 5, 7, 9, 11, 13, 15, 17, 19, 21, 23, 25, 27, 29]\n",
      "Fed Patrons: [0, 2, 4, 6, 8, 10, 12, 14, 16, 18, 20, 22, 24, 26, 28]\n"
     ]
    }
   ],
   "source": [
    "line_of_hungry_patrons = list(range(0,30))\n",
    "fed_patrons = []\n",
    "\n",
    "line_of_hungry_patrons = list(range(0,30))\n",
    "fed_patrons = []\n",
    "for patron in line_of_hungry_patrons:\n",
    "    if patron % 2 == 0:\n",
    "        fed_patrons.append(patron)\n",
    "        line_of_hungry_patrons.remove(patron)\n",
    "print(\"Line of Hungry Patrons:\",line_of_hungry_patrons)\n",
    "print(\"Fed Patrons:\", fed_patrons)\n",
    "\n",
    "# use a while loop to to feed the hungry patrons who have an even number\n",
    "# add the patrons with an even number to the fed_patrons list\n",
    "# then remove the even numbered patrons from the line_of_hungry_patrons\n",
    "# each list should contain 15 elements"
   ]
  },
  {
   "cell_type": "markdown",
   "metadata": {},
   "source": [
    "### `break` And `continue` Statements"
   ]
  },
  {
   "cell_type": "markdown",
   "metadata": {},
   "source": [
    "We have a list of person objects with all kinds of attributes. We'll use loops to find a person that meets a certain requirement that we are looking for or create new lists with a certain subset of elements. Write for loops with conditional statements in conjunction with `break` and `continue` to get the desired output."
   ]
  },
  {
   "cell_type": "code",
   "execution_count": 5,
   "metadata": {},
   "outputs": [],
   "source": [
    "people = [\n",
    "    {'name': \"Daniel\", 'age': 29, 'job': \"Engineer\", 'pet': \"Cat\", 'pet_name': \"Gato\"}, \n",
    "    {'name': \"Katie\", 'age': 30, 'job': \"Teacher\", 'pet': \"Dog\", 'pet_name': \"Frank\"},\n",
    "    {'name': \"Owen\", 'age': 26, 'job': \"Sales person\", 'pet': \"Cat\", 'pet_name': \"Cosmo\"},\n",
    "    {'name': \"Josh\", 'age': 22, 'job': \"Student\", 'pet': \"Cat\", 'pet_name': \"Chat\"},\n",
    "    {'name': \"Estelle\", 'age': 35, 'job': \"French Diplomat\", 'pet': \"Dog\", 'pet_name': \"Gabby\"},\n",
    "    {'name': \"Gustav\", 'age': 24, 'job': \"Brewer\", 'pet': \"Dog\", 'pet_name': \"Helen\"}\n",
    "]\n",
    "\n"
   ]
  },
  {
   "cell_type": "code",
   "execution_count": 6,
   "metadata": {},
   "outputs": [
    {
     "name": "stdout",
     "output_type": "stream",
     "text": [
      "[{'name': 'Katie', 'age': 30, 'job': 'Teacher', 'pet': 'Dog', 'pet_name': 'Frank'}]\n",
      "2\n"
     ]
    }
   ],
   "source": [
    "# use the for loop below to find the *first* person in the list of people that has a dog as their pet\n",
    "# the iteration count shouldn't exceed 2 iterations\n",
    "\n",
    "first_dog_person = []\n",
    "iteration_count = 0\n",
    "for person in people:\n",
    "    iteration_count += 1\n",
    "    if person[\"pet\"] == 'Dog':\n",
    "        first_dog_person.append(person)\n",
    "        break\n",
    "        \n",
    "print(first_dog_person)\n",
    "print(iteration_count)\n"
   ]
  },
  {
   "cell_type": "code",
   "execution_count": 8,
   "metadata": {},
   "outputs": [
    {
     "name": "stdout",
     "output_type": "stream",
     "text": [
      "[{'name': 'Owen', 'age': 26, 'job': 'Sales person', 'pet': 'Cat', 'pet_name': 'Cosmo'}, {'name': 'Josh', 'age': 22, 'job': 'Student', 'pet': 'Cat', 'pet_name': 'Chat'}]\n"
     ]
    }
   ],
   "source": [
    "# use a for loop to create a list of the cat owners who are under the age of 28\n",
    "# remember to use break and continue to make your code more efficient\n",
    "cat_owners = []\n",
    "for person in people:\n",
    "    if person[\"age\"] <= 28 and person[\"pet\"] == \"Cat\":\n",
    "        cat_owners.append(person)\n",
    "        \n",
    "print(cat_owners)\n",
    "\n",
    "# for loop goes here"
   ]
  },
  {
   "cell_type": "code",
   "execution_count": 9,
   "metadata": {},
   "outputs": [
    {
     "name": "stdout",
     "output_type": "stream",
     "text": [
      "[{'name': 'Daniel', 'age': 29, 'job': 'Engineer', 'pet': 'Cat', 'pet_name': 'Gato'}]\n"
     ]
    }
   ],
   "source": [
    "# use a for loop to find the first person who is above 29 years old in our list of people\n",
    "# remember to use a break and or continue statement\n",
    "\n",
    "thirty_something_yr_old = []\n",
    "for person in people:\n",
    "    if person[\"age\"] >= 29:\n",
    "        thirty_something_yr_old.append(person)\n",
    "        break\n",
    "        \n",
    "print(thirty_something_yr_old)\n",
    "\n",
    "\n",
    "# for loop goes here"
   ]
  },
  {
   "cell_type": "code",
   "execution_count": 10,
   "metadata": {},
   "outputs": [
    {
     "name": "stdout",
     "output_type": "stream",
     "text": [
      "['Katie', 'Estelle', 'Gustav']\n",
      "['Frank', 'Gabby', 'Helen']\n"
     ]
    }
   ],
   "source": [
    "# use a for loop to create a list of person names and another list of pet names for all dog owners\n",
    "# remember to use break and or continue statements\n",
    "\n",
    "dog_owner_names = []\n",
    "dog_names = []\n",
    "for person in people:\n",
    "    if person[\"pet\"] == \"Dog\":\n",
    "        dog_owner_names.append(person[\"name\"])\n",
    "        dog_names.append(person[\"pet_name\"])\n",
    "        \n",
    "\n",
    "print(dog_owner_names)\n",
    "print(dog_names)\n",
    "\n",
    "\n",
    "# for loop goes here"
   ]
  },
  {
   "cell_type": "code",
   "execution_count": 11,
   "metadata": {},
   "outputs": [
    {
     "name": "stdout",
     "output_type": "stream",
     "text": [
      "['Daniel', 'Owen', 'Josh']\n",
      "['Gato', 'Cosmo', 'Chat']\n"
     ]
    }
   ],
   "source": [
    "# use a for loop to create a list of person names and another list of pet names for all cat owners this time\n",
    "# remember to use break and or continue statements\n",
    "\n",
    "cat_owner_names = []\n",
    "cat_names = []\n",
    "for person in people:\n",
    "    if person[\"pet\"] == \"Cat\":\n",
    "        cat_owner_names.append(person[\"name\"])\n",
    "        cat_names.append(person[\"pet_name\"])\n",
    "        \n",
    "\n",
    "print(cat_owner_names)\n",
    "print(cat_names)\n",
    "\n",
    "\n",
    "# for loop goes here"
   ]
  },
  {
   "cell_type": "code",
   "execution_count": 12,
   "metadata": {},
   "outputs": [
    {
     "name": "stdout",
     "output_type": "stream",
     "text": [
      "[11, 13, 15, 17, 19, 21, 23, 25, 27, 29, 31, 33, 35, 37, 39, 41, 43, 45, 47, 49, 51, 53, 55, 57, 59, 61, 63, 65, 67, 69, 71, 73, 75, 77, 79]\n"
     ]
    }
   ],
   "source": [
    "# use a for loop to create a list of odd numbers from the list of numbers from 0 to 100\n",
    "# each time there is an odd number, add 10 to it and append it to the list_of_odd_numbers_plus_ten\n",
    "# stop adding numbers to the list when there are 35 numbers\n",
    "# use break and continue statements in your code\n",
    "\n",
    "list_of_numbers = list(range(0,100))\n",
    "list_of_odd_numbers_plus_ten = []\n",
    "for number in list_of_numbers:\n",
    "    if len(list_of_odd_numbers_plus_ten) > 34:\n",
    "        break\n",
    "    elif number % 2 != 0:\n",
    "        list_of_odd_numbers_plus_ten.append(number + 10)\n",
    "    elif number % 2 == 0:\n",
    "        continue\n",
    "        \n",
    "print(list_of_odd_numbers_plus_ten)\n",
    "\n"
   ]
  },
  {
   "cell_type": "markdown",
   "metadata": {},
   "source": [
    "## Summary"
   ]
  },
  {
   "cell_type": "markdown",
   "metadata": {},
   "source": [
    "In this lab, we practiced using while loops, which continue executing their block of code until the given condition is no longer truthy. This is useful for instances where we do not have a collection or do not need a collection to solve our problem, especially when we would only like to stop the process according to a certain condition. We then practiced using control flow statements, `break` and `continue`, to selectively operate on elements, append them to new lists, or assign them to new variables."
   ]
  }
 ],
 "metadata": {
  "kernelspec": {
   "display_name": "Python 3",
   "language": "python",
   "name": "python3"
  },
  "language_info": {
   "codemirror_mode": {
    "name": "ipython",
    "version": 3
   },
   "file_extension": ".py",
   "mimetype": "text/x-python",
   "name": "python",
   "nbconvert_exporter": "python",
   "pygments_lexer": "ipython3",
   "version": "3.6.6"
  }
 },
 "nbformat": 4,
 "nbformat_minor": 2
}
